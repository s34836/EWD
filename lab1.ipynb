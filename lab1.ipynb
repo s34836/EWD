{
 "cells": [
  {
   "cell_type": "code",
   "execution_count": null,
   "metadata": {},
   "outputs": [
    {
     "ename": "",
     "evalue": "",
     "output_type": "error",
     "traceback": [
      "\u001b[1;31mUruchomienie komórek z elementem „Python 3.13.2” wymaga pakietu ipykernel.\n",
      "\u001b[1;31mUruchom następujące polecenie, aby zainstalować pakiet „ipykernel” w środowisku języka Python. \n",
      "\u001b[1;31mPolecenie: „/opt/homebrew/bin/python3 -m pip install ipykernel -U --user --force-reinstall”"
     ]
    }
   ],
   "source": [
    "import pandas as pd\n",
    "import numpy as np\n",
    "\n",
    "data_raw = pd.read_csv('SP500.csv') \n",
    "data = data_raw.copy()\n",
    "data.head()"
   ]
  }
 ],
 "metadata": {
  "kernelspec": {
   "display_name": "Python 3",
   "language": "python",
   "name": "python3"
  },
  "language_info": {
   "name": "python",
   "version": "3.13.2"
  }
 },
 "nbformat": 4,
 "nbformat_minor": 2
}
