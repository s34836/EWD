{
  "cells": [
    {
      "cell_type": "markdown",
      "metadata": {
        "id": "view-in-github",
        "colab_type": "text"
      },
      "source": [
        "<a href=\"https://colab.research.google.com/github/s34836/EWD/blob/main/lab10.ipynb\" target=\"_parent\"><img src=\"https://colab.research.google.com/assets/colab-badge.svg\" alt=\"Open In Colab\"/></a>"
      ]
    },
    {
      "cell_type": "markdown",
      "id": "9010855a",
      "metadata": {
        "id": "9010855a"
      },
      "source": [
        "# Lab - Classification 2\n",
        "\n",
        "## Tasks\n",
        "1. Load the `adult.csv` dataset. Inspect and explore the dataset, then prepare it for modelling.\n",
        "Compare different classification models for predicting the income group (`<=50K`/`>50K`) and select the right hyperparameters. Make sure you use the appropriate metrics to evaluate the models. You can use a validation set or cross validation (see: [`cross_validate`](https://scikit-learn.org/stable/modules/generated/sklearn.model_selection.cross_validate.html), [`cross_val_score`](https://scikit-learn.org/stable/modules/generated/sklearn.model_selection.cross_val_score.html), [`GridSearchCV`](https://scikit-learn.org/stable/modules/generated/sklearn.model_selection.GridSearchCV.html))"
      ]
    }
  ],
  "metadata": {
    "language_info": {
      "name": "python"
    },
    "colab": {
      "provenance": [],
      "include_colab_link": true
    }
  },
  "nbformat": 4,
  "nbformat_minor": 5
}