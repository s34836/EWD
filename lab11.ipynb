{
  "cells": [
    {
      "cell_type": "markdown",
      "metadata": {
        "id": "view-in-github",
        "colab_type": "text"
      },
      "source": [
        "<a href=\"https://colab.research.google.com/github/s34836/EWD/blob/main/lab11.ipynb\" target=\"_parent\"><img src=\"https://colab.research.google.com/assets/colab-badge.svg\" alt=\"Open In Colab\"/></a>"
      ]
    },
    {
      "cell_type": "markdown",
      "id": "254574a6",
      "metadata": {
        "id": "254574a6"
      },
      "source": [
        "# Lab - Classification 3\n",
        "\n",
        "## Tasks\n",
        "1. The `spam.csv` dataset contains examples of `spam` and `ham` email messages. Use the [`CountVectorizer`](https://scikit-learn.org/stable/modules/generated/sklearn.feature_extraction.text.CountVectorizer.html) to generate word frequency vectors for each message. Fit and compare several classification models, such as `MultinomialNB`, `KNeighborsClassifier`, `LogisticRegression`, etc.\n",
        "\n",
        "2. The `IMDB` dataset contains positive and negative movie reviews. Vectorize the reviews, then use the [`cross_validate`](https://scikit-learn.org/stable/modules/generated/sklearn.model_selection.cross_validate.html) method to compare the:\n",
        "    \n",
        "    - accuracy and f1-score,\n",
        "    - fit time,\n",
        "    - score time\n",
        "\n",
        "    of selected classification models including `MultinomialNB`, `KNeighborsClassifier` and `LogisticRegression`."
      ]
    }
  ],
  "metadata": {
    "language_info": {
      "name": "python"
    },
    "colab": {
      "provenance": [],
      "include_colab_link": true
    }
  },
  "nbformat": 4,
  "nbformat_minor": 5
}