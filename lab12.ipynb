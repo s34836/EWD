{
  "cells": [
    {
      "cell_type": "markdown",
      "metadata": {
        "id": "view-in-github",
        "colab_type": "text"
      },
      "source": [
        "<a href=\"https://colab.research.google.com/github/s34836/EWD/blob/main/lab12.ipynb\" target=\"_parent\"><img src=\"https://colab.research.google.com/assets/colab-badge.svg\" alt=\"Open In Colab\"/></a>"
      ]
    },
    {
      "cell_type": "markdown",
      "id": "71bea0a1-71ab-433b-b538-5abaa4697877",
      "metadata": {
        "id": "71bea0a1-71ab-433b-b538-5abaa4697877"
      },
      "source": [
        "# Lab - Trees\n",
        "\n",
        "## Tasks\n",
        "\n",
        "1. Load the `Carseats.csv` dataset. Drop the `Sales` column and replace it with a categorical column `SalesHigh`, which should take the value `Yes` if `Sales >= 8` and `No` otherwise. Use decision trees to predict the value of `SalesHigh` based on the other variables.\n",
        "    - Divide the data into training, validation and test sets (or use cross validation instead of validation set).\n",
        "    - Fit a [`DecisionTreeClassifier`](https://scikit-learn.org/stable/modules/generated/sklearn.tree.DecisionTreeClassifier.html) model.\n",
        "    - Apply pruning to reduce the size of the tree. Generate `ccp_alpha` values with the `cost_complexity_pruning_path()` method. Find the best `ccp_alpha` using the validation set or cross validation (e.g. [`GridSearchCV`](https://scikit-learn.org/stable/modules/generated/sklearn.model_selection.GridSearchCV.html)).\n",
        "    - Compare the pruned and unpruned trees. How did pruning affect the quality of predictions? How did it affect the size of the model (compare tree sizes using the methods `get_depth()` and `get_n_leaves()`).\n",
        "    - Fit a [`RandomForestClassifier`](https://scikit-learn.org/stable/modules/generated/sklearn.ensemble.RandomForestClassifier.html) and compare it to single-tree models.\n",
        "    - Select the best decision tree, taking into account both prediction accuracy and model size. Visualize the tree using the method [`plot_tree()`](https://scikit-learn.org/stable/modules/generated/sklearn.tree.plot_tree.html). Use the test set to evaluate the model.\n",
        "2. Use the [`DecisionTreeRegressor`](https://scikit-learn.org/stable/modules/generated/sklearn.tree.DecisionTreeRegressor.html) and [`RandomForestRegressor`](https://scikit-learn.org/stable/modules/generated/sklearn.ensemble.RandomForestRegressor.html) models to predict the value of `medv` based on the other variables in the `boston.csv` dataset. Follow the steps from Task 1."
      ]
    }
  ],
  "metadata": {
    "kernelspec": {
      "display_name": "Python 3 (ipykernel)",
      "language": "python",
      "name": "python3"
    },
    "language_info": {
      "codemirror_mode": {
        "name": "ipython",
        "version": 3
      },
      "file_extension": ".py",
      "mimetype": "text/x-python",
      "name": "python",
      "nbconvert_exporter": "python",
      "pygments_lexer": "ipython3",
      "version": "3.9.16"
    },
    "colab": {
      "provenance": [],
      "include_colab_link": true
    }
  },
  "nbformat": 4,
  "nbformat_minor": 5
}