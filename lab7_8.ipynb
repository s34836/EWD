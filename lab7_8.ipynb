{
  "nbformat": 4,
  "nbformat_minor": 0,
  "metadata": {
    "colab": {
      "provenance": [],
      "authorship_tag": "ABX9TyMF9QXjdnfMk8SrBdZXzf4N",
      "include_colab_link": true
    },
    "kernelspec": {
      "name": "python3",
      "display_name": "Python 3"
    },
    "language_info": {
      "name": "python"
    }
  },
  "cells": [
    {
      "cell_type": "markdown",
      "metadata": {
        "id": "view-in-github",
        "colab_type": "text"
      },
      "source": [
        "<a href=\"https://colab.research.google.com/github/s34836/EWD/blob/main/lab7_8.ipynb\" target=\"_parent\"><img src=\"https://colab.research.google.com/assets/colab-badge.svg\" alt=\"Open In Colab\"/></a>"
      ]
    },
    {
      "cell_type": "markdown",
      "source": [
        "## Tasks (Lab 07)\n",
        "1. Load the [`boston.csv` dataset](https://www.rdocumentation.org/packages/MASS/versions/7.3-58.3/topics/Boston) and model the relationship between the median house value (`medv`) and other variables.\n",
        "    - Select a model manually. Compare 4-5 different single-variable and multi-variable models. It may be helpful to visualize the dataset's correlation matrix.\n",
        "    - Perform model diagnostics.\n",
        "        - In model summaries, observe the $R^2$, coefficients and their $p$-values.\n",
        "        - Create residual plots.\n",
        "    - Write down your conclusions.\n",
        "## Tasks (Lab 08)\n",
        "1. Create non-linear (for example polynomial) models and models with interaction terms for the `boston` dataset. Compare them to models created in the previous task.\n",
        "2. Implement the forward selection method. You can use the Adjusted `R^2` metric or a validation set to evaluate/select models.\n",
        "3. Load the `housing.csv` dataset and:\n",
        "    - Remove rows containing missing values (or fill them in with the mean).\n",
        "    - One-hot encode the `ocean_proximity` variable using `pd.get_dummies()`.\n",
        "    - Model the dependence of `median_house_value` on `ocean_proximity`."
      ],
      "metadata": {
        "id": "AWAjzRUCaXx_"
      }
    },
    {
      "cell_type": "code",
      "execution_count": null,
      "metadata": {
        "id": "AlrZ-IeRaWwn"
      },
      "outputs": [],
      "source": []
    }
  ]
}