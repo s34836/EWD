{
  "cells": [
    {
      "cell_type": "markdown",
      "metadata": {
        "id": "view-in-github",
        "colab_type": "text"
      },
      "source": [
        "<a href=\"https://colab.research.google.com/github/s34836/EWD/blob/main/lab9.ipynb\" target=\"_parent\"><img src=\"https://colab.research.google.com/assets/colab-badge.svg\" alt=\"Open In Colab\"/></a>"
      ]
    },
    {
      "cell_type": "markdown",
      "id": "951c993e",
      "metadata": {
        "id": "951c993e"
      },
      "source": [
        "# Lab - Classification\n",
        "\n",
        "## Tasks\n",
        "\n",
        "1. Load the `diabetes.csv` dataset. Prepare the data for modelling (split it into training/validation/test sets and scale it).\n",
        "Create predictive models to detect cases of diabetes (the `Outcome` column):\n",
        "    - [`LogisticRegression`](https://scikit-learn.org/stable/modules/generated/sklearn.linear_model.LogisticRegression.html),\n",
        "    - [`GaussianNB`](https://scikit-learn.org/stable/modules/generated/sklearn.naive_bayes.GaussianNB.html),\n",
        "    - [`LinearDiscriminantAnalysis`](https://scikit-learn.org/stable/modules/generated/sklearn.discriminant_analysis.LinearDiscriminantAnalysis.html),\n",
        "    - [`QuadraticDiscriminantAnalysis`](https://scikit-learn.org/stable/modules/generated/sklearn.discriminant_analysis.QuadraticDiscriminantAnalysis.html).\n",
        "\n",
        "    Compare the models using the accuracy/precision/recall/F1 scores on validation data. Select the best model and evaluate it using the test set.\n",
        "2. Classify mushrooms in `agaricus-lepiota.data` as *poisonous* (`p`) or *edible* (`e`) using [`CategoricalNB`](https://scikit-learn.org/stable/modules/generated/sklearn.naive_bayes.CategoricalNB.html).\n",
        "    - Missing values in the dataset are stored as `?` (to load the dataset correctly, pass `na_values='?'` to  `read_csv()`). Remove all rows containing missing values (`dropna(axis='rows')`).\n",
        "    - Encode the inputs (`X`) as 0,1,2,... using the [`OrdinalEncoder`](https://scikit-learn.org/stable/modules/generated/sklearn.preprocessing.OrdinalEncoder.html).\n",
        "    - Split the data into a training and test set. Print out the confusion matrix and check which type of error is more common (false positive/false negative). Calculate the accuracy, precision and recall."
      ]
    }
  ],
  "metadata": {
    "language_info": {
      "name": "python"
    },
    "colab": {
      "provenance": [],
      "include_colab_link": true
    }
  },
  "nbformat": 4,
  "nbformat_minor": 5
}